{
 "cells": [
  {
   "cell_type": "code",
   "execution_count": 1,
   "id": "c72ad448",
   "metadata": {
    "_cell_guid": "b1076dfc-b9ad-4769-8c92-a6c4dae69d19",
    "_uuid": "8f2839f25d086af736a60e9eeb907d3b93b6e0e5",
    "execution": {
     "iopub.execute_input": "2025-02-21T05:26:16.378558Z",
     "iopub.status.busy": "2025-02-21T05:26:16.378119Z",
     "iopub.status.idle": "2025-02-21T05:26:17.395180Z",
     "shell.execute_reply": "2025-02-21T05:26:17.393935Z"
    },
    "papermill": {
     "duration": 1.029196,
     "end_time": "2025-02-21T05:26:17.397253",
     "exception": false,
     "start_time": "2025-02-21T05:26:16.368057",
     "status": "completed"
    },
    "tags": []
   },
   "outputs": [],
   "source": [
    "import numpy as np\n",
    "import pandas as pd"
   ]
  },
  {
   "cell_type": "code",
   "execution_count": 2,
   "id": "152f50d9",
   "metadata": {
    "execution": {
     "iopub.execute_input": "2025-02-21T05:26:17.416446Z",
     "iopub.status.busy": "2025-02-21T05:26:17.415891Z",
     "iopub.status.idle": "2025-02-21T05:26:17.473648Z",
     "shell.execute_reply": "2025-02-21T05:26:17.472651Z"
    },
    "papermill": {
     "duration": 0.068863,
     "end_time": "2025-02-21T05:26:17.475344",
     "exception": false,
     "start_time": "2025-02-21T05:26:17.406481",
     "status": "completed"
    },
    "tags": []
   },
   "outputs": [
    {
     "data": {
      "text/html": [
       "<div>\n",
       "<style scoped>\n",
       "    .dataframe tbody tr th:only-of-type {\n",
       "        vertical-align: middle;\n",
       "    }\n",
       "\n",
       "    .dataframe tbody tr th {\n",
       "        vertical-align: top;\n",
       "    }\n",
       "\n",
       "    .dataframe thead th {\n",
       "        text-align: right;\n",
       "    }\n",
       "</style>\n",
       "<table border=\"1\" class=\"dataframe\">\n",
       "  <thead>\n",
       "    <tr style=\"text-align: right;\">\n",
       "      <th></th>\n",
       "      <th>Class</th>\n",
       "      <th>Message</th>\n",
       "    </tr>\n",
       "  </thead>\n",
       "  <tbody>\n",
       "    <tr>\n",
       "      <th>0</th>\n",
       "      <td>ham</td>\n",
       "      <td>Go until jurong point, crazy.. Available only ...</td>\n",
       "    </tr>\n",
       "    <tr>\n",
       "      <th>1</th>\n",
       "      <td>ham</td>\n",
       "      <td>Ok lar... Joking wif u oni...</td>\n",
       "    </tr>\n",
       "    <tr>\n",
       "      <th>2</th>\n",
       "      <td>spam</td>\n",
       "      <td>Free entry in 2 a wkly comp to win FA Cup fina...</td>\n",
       "    </tr>\n",
       "    <tr>\n",
       "      <th>3</th>\n",
       "      <td>ham</td>\n",
       "      <td>U dun say so early hor... U c already then say...</td>\n",
       "    </tr>\n",
       "    <tr>\n",
       "      <th>4</th>\n",
       "      <td>ham</td>\n",
       "      <td>Nah I don't think he goes to usf, he lives aro...</td>\n",
       "    </tr>\n",
       "  </tbody>\n",
       "</table>\n",
       "</div>"
      ],
      "text/plain": [
       "  Class                                            Message\n",
       "0   ham  Go until jurong point, crazy.. Available only ...\n",
       "1   ham                      Ok lar... Joking wif u oni...\n",
       "2  spam  Free entry in 2 a wkly comp to win FA Cup fina...\n",
       "3   ham  U dun say so early hor... U c already then say...\n",
       "4   ham  Nah I don't think he goes to usf, he lives aro..."
      ]
     },
     "execution_count": 2,
     "metadata": {},
     "output_type": "execute_result"
    }
   ],
   "source": [
    "df = pd.read_csv('./data/Spam_SMS.csv')\n",
    "df.head()"
   ]
  },
  {
   "cell_type": "code",
   "execution_count": 3,
   "id": "7c18381c",
   "metadata": {
    "execution": {
     "iopub.execute_input": "2025-02-21T05:26:17.493912Z",
     "iopub.status.busy": "2025-02-21T05:26:17.493576Z",
     "iopub.status.idle": "2025-02-21T05:26:17.499347Z",
     "shell.execute_reply": "2025-02-21T05:26:17.498479Z"
    },
    "papermill": {
     "duration": 0.016834,
     "end_time": "2025-02-21T05:26:17.500992",
     "exception": false,
     "start_time": "2025-02-21T05:26:17.484158",
     "status": "completed"
    },
    "tags": []
   },
   "outputs": [
    {
     "data": {
      "text/plain": [
       "(5574, 2)"
      ]
     },
     "execution_count": 3,
     "metadata": {},
     "output_type": "execute_result"
    }
   ],
   "source": [
    "df.shape"
   ]
  },
  {
   "cell_type": "code",
   "execution_count": 4,
   "id": "e08b628e",
   "metadata": {
    "execution": {
     "iopub.execute_input": "2025-02-21T05:26:17.519576Z",
     "iopub.status.busy": "2025-02-21T05:26:17.519156Z",
     "iopub.status.idle": "2025-02-21T05:26:17.546742Z",
     "shell.execute_reply": "2025-02-21T05:26:17.545384Z"
    },
    "papermill": {
     "duration": 0.038896,
     "end_time": "2025-02-21T05:26:17.548605",
     "exception": false,
     "start_time": "2025-02-21T05:26:17.509709",
     "status": "completed"
    },
    "tags": []
   },
   "outputs": [
    {
     "name": "stdout",
     "output_type": "stream",
     "text": [
      "<class 'pandas.core.frame.DataFrame'>\n",
      "RangeIndex: 5574 entries, 0 to 5573\n",
      "Data columns (total 2 columns):\n",
      " #   Column   Non-Null Count  Dtype \n",
      "---  ------   --------------  ----- \n",
      " 0   Class    5574 non-null   object\n",
      " 1   Message  5574 non-null   object\n",
      "dtypes: object(2)\n",
      "memory usage: 87.2+ KB\n"
     ]
    }
   ],
   "source": [
    "df.info()"
   ]
  },
  {
   "cell_type": "markdown",
   "id": "1d54e5eb",
   "metadata": {
    "papermill": {
     "duration": 0.008286,
     "end_time": "2025-02-21T05:26:17.565566",
     "exception": false,
     "start_time": "2025-02-21T05:26:17.557280",
     "status": "completed"
    },
    "tags": []
   },
   "source": [
    "Lets convert the Class column datatype to category as it will help save space."
   ]
  },
  {
   "cell_type": "code",
   "execution_count": 5,
   "id": "73314dd9",
   "metadata": {
    "execution": {
     "iopub.execute_input": "2025-02-21T05:26:17.584065Z",
     "iopub.status.busy": "2025-02-21T05:26:17.583681Z",
     "iopub.status.idle": "2025-02-21T05:26:17.598388Z",
     "shell.execute_reply": "2025-02-21T05:26:17.597099Z"
    },
    "papermill": {
     "duration": 0.026664,
     "end_time": "2025-02-21T05:26:17.600688",
     "exception": false,
     "start_time": "2025-02-21T05:26:17.574024",
     "status": "completed"
    },
    "tags": []
   },
   "outputs": [
    {
     "name": "stdout",
     "output_type": "stream",
     "text": [
      "<class 'pandas.core.frame.DataFrame'>\n",
      "RangeIndex: 5574 entries, 0 to 5573\n",
      "Data columns (total 2 columns):\n",
      " #   Column   Non-Null Count  Dtype   \n",
      "---  ------   --------------  -----   \n",
      " 0   Class    5574 non-null   category\n",
      " 1   Message  5574 non-null   object  \n",
      "dtypes: category(1), object(1)\n",
      "memory usage: 49.2+ KB\n"
     ]
    }
   ],
   "source": [
    "df['Class'] = df['Class'].astype('category')\n",
    "df.info()"
   ]
  },
  {
   "cell_type": "code",
   "execution_count": 6,
   "id": "b7a90aef",
   "metadata": {
    "execution": {
     "iopub.execute_input": "2025-02-21T05:26:17.619970Z",
     "iopub.status.busy": "2025-02-21T05:26:17.619639Z",
     "iopub.status.idle": "2025-02-21T05:26:17.628002Z",
     "shell.execute_reply": "2025-02-21T05:26:17.627031Z"
    },
    "papermill": {
     "duration": 0.019812,
     "end_time": "2025-02-21T05:26:17.629974",
     "exception": false,
     "start_time": "2025-02-21T05:26:17.610162",
     "status": "completed"
    },
    "tags": []
   },
   "outputs": [
    {
     "data": {
      "text/plain": [
       "415"
      ]
     },
     "execution_count": 6,
     "metadata": {},
     "output_type": "execute_result"
    }
   ],
   "source": [
    "df.duplicated().sum()"
   ]
  },
  {
   "cell_type": "code",
   "execution_count": 7,
   "id": "9e445232",
   "metadata": {
    "execution": {
     "iopub.execute_input": "2025-02-21T05:26:17.649833Z",
     "iopub.status.busy": "2025-02-21T05:26:17.649491Z",
     "iopub.status.idle": "2025-02-21T05:26:17.660776Z",
     "shell.execute_reply": "2025-02-21T05:26:17.659448Z"
    },
    "papermill": {
     "duration": 0.023877,
     "end_time": "2025-02-21T05:26:17.663185",
     "exception": false,
     "start_time": "2025-02-21T05:26:17.639308",
     "status": "completed"
    },
    "tags": []
   },
   "outputs": [],
   "source": [
    "df.drop_duplicates(inplace=True)"
   ]
  },
  {
   "cell_type": "code",
   "execution_count": 8,
   "id": "0bc7d16a",
   "metadata": {
    "execution": {
     "iopub.execute_input": "2025-02-21T05:26:17.682648Z",
     "iopub.status.busy": "2025-02-21T05:26:17.682257Z",
     "iopub.status.idle": "2025-02-21T05:26:17.690876Z",
     "shell.execute_reply": "2025-02-21T05:26:17.689763Z"
    },
    "papermill": {
     "duration": 0.020425,
     "end_time": "2025-02-21T05:26:17.692643",
     "exception": false,
     "start_time": "2025-02-21T05:26:17.672218",
     "status": "completed"
    },
    "tags": []
   },
   "outputs": [
    {
     "data": {
      "text/plain": [
       "Class\n",
       "ham     4518\n",
       "spam     641\n",
       "Name: count, dtype: int64"
      ]
     },
     "execution_count": 8,
     "metadata": {},
     "output_type": "execute_result"
    }
   ],
   "source": [
    "df['Class'].value_counts()"
   ]
  },
  {
   "cell_type": "markdown",
   "id": "ce9e8381",
   "metadata": {
    "papermill": {
     "duration": 0.008559,
     "end_time": "2025-02-21T05:26:17.710184",
     "exception": false,
     "start_time": "2025-02-21T05:26:17.701625",
     "status": "completed"
    },
    "tags": []
   },
   "source": [
    "We can see that there is a class imbalance problem here. We will use SMOTE to solve this problem."
   ]
  },
  {
   "cell_type": "markdown",
   "id": "e18373ea",
   "metadata": {
    "papermill": {
     "duration": 0.008799,
     "end_time": "2025-02-21T05:26:17.727891",
     "exception": false,
     "start_time": "2025-02-21T05:26:17.719092",
     "status": "completed"
    },
    "tags": []
   },
   "source": [
    "### Text Preprocessing"
   ]
  },
  {
   "cell_type": "code",
   "execution_count": 9,
   "id": "2f423289",
   "metadata": {
    "execution": {
     "iopub.execute_input": "2025-02-21T05:26:17.746903Z",
     "iopub.status.busy": "2025-02-21T05:26:17.746558Z",
     "iopub.status.idle": "2025-02-21T05:26:17.754002Z",
     "shell.execute_reply": "2025-02-21T05:26:17.752886Z"
    },
    "papermill": {
     "duration": 0.019122,
     "end_time": "2025-02-21T05:26:17.755933",
     "exception": false,
     "start_time": "2025-02-21T05:26:17.736811",
     "status": "completed"
    },
    "tags": []
   },
   "outputs": [
    {
     "data": {
      "text/plain": [
       "0    Go until jurong point, crazy.. Available only ...\n",
       "1                        Ok lar... Joking wif u oni...\n",
       "2    Free entry in 2 a wkly comp to win FA Cup fina...\n",
       "3    U dun say so early hor... U c already then say...\n",
       "4    Nah I don't think he goes to usf, he lives aro...\n",
       "Name: Message, dtype: object"
      ]
     },
     "execution_count": 9,
     "metadata": {},
     "output_type": "execute_result"
    }
   ],
   "source": [
    "df['Message'].head()"
   ]
  },
  {
   "cell_type": "code",
   "execution_count": 10,
   "id": "0f419f4e",
   "metadata": {
    "execution": {
     "iopub.execute_input": "2025-02-21T05:26:17.774991Z",
     "iopub.status.busy": "2025-02-21T05:26:17.774660Z",
     "iopub.status.idle": "2025-02-21T05:26:17.784799Z",
     "shell.execute_reply": "2025-02-21T05:26:17.783717Z"
    },
    "papermill": {
     "duration": 0.021426,
     "end_time": "2025-02-21T05:26:17.786381",
     "exception": false,
     "start_time": "2025-02-21T05:26:17.764955",
     "status": "completed"
    },
    "tags": []
   },
   "outputs": [
    {
     "data": {
      "text/plain": [
       "0    go until jurong point, crazy.. available only ...\n",
       "1                        ok lar... joking wif u oni...\n",
       "2    free entry in 2 a wkly comp to win fa cup fina...\n",
       "3    u dun say so early hor... u c already then say...\n",
       "4    nah i don't think he goes to usf, he lives aro...\n",
       "Name: Message, dtype: object"
      ]
     },
     "execution_count": 10,
     "metadata": {},
     "output_type": "execute_result"
    }
   ],
   "source": [
    "# lowercasing\n",
    "df['Message'] = df['Message'].str.lower()\n",
    "df['Message'].head()"
   ]
  },
  {
   "cell_type": "code",
   "execution_count": 11,
   "id": "895ca89f",
   "metadata": {
    "execution": {
     "iopub.execute_input": "2025-02-21T05:26:17.805841Z",
     "iopub.status.busy": "2025-02-21T05:26:17.805504Z",
     "iopub.status.idle": "2025-02-21T05:26:17.841048Z",
     "shell.execute_reply": "2025-02-21T05:26:17.839895Z"
    },
    "papermill": {
     "duration": 0.04735,
     "end_time": "2025-02-21T05:26:17.842718",
     "exception": false,
     "start_time": "2025-02-21T05:26:17.795368",
     "status": "completed"
    },
    "tags": []
   },
   "outputs": [
    {
     "data": {
      "text/plain": [
       "0    go until jurong point crazy available only in ...\n",
       "1                              ok lar joking wif u oni\n",
       "2    free entry in 2 a wkly comp to win fa cup fina...\n",
       "3          u dun say so early hor u c already then say\n",
       "4    nah i dont think he goes to usf he lives aroun...\n",
       "Name: Message, dtype: object"
      ]
     },
     "execution_count": 11,
     "metadata": {},
     "output_type": "execute_result"
    }
   ],
   "source": [
    "# removing punctuations\n",
    "import string\n",
    "\n",
    "def rmv_punct(message):\n",
    "    return message.translate(str.maketrans('','',string.punctuation))\n",
    "\n",
    "df['Message'] = df['Message'].apply(rmv_punct)\n",
    "df['Message'].head()"
   ]
  },
  {
   "cell_type": "code",
   "execution_count": 12,
   "id": "fdfdd551",
   "metadata": {
    "execution": {
     "iopub.execute_input": "2025-02-21T05:26:17.862361Z",
     "iopub.status.busy": "2025-02-21T05:26:17.862030Z",
     "iopub.status.idle": "2025-02-21T05:26:30.098641Z",
     "shell.execute_reply": "2025-02-21T05:26:30.097587Z"
    },
    "papermill": {
     "duration": 12.248433,
     "end_time": "2025-02-21T05:26:30.100521",
     "exception": false,
     "start_time": "2025-02-21T05:26:17.852088",
     "status": "completed"
    },
    "tags": []
   },
   "outputs": [
    {
     "data": {
      "text/plain": [
       "0    go jurong point crazy available bugis n great ...\n",
       "1                              ok lar joking wif u oni\n",
       "2    free entry 2 wkly comp win fa cup final tkts 2...\n",
       "3                  u dun say early hor u c already say\n",
       "4          nah dont think goes usf lives around though\n",
       "Name: Message, dtype: object"
      ]
     },
     "execution_count": 12,
     "metadata": {},
     "output_type": "execute_result"
    }
   ],
   "source": [
    "# stopwords removal\n",
    "from nltk.tokenize import word_tokenize\n",
    "from nltk.corpus import stopwords\n",
    "\n",
    "def rmv_sw(messages):\n",
    "    message = word_tokenize(messages)\n",
    "\n",
    "    message = [word for word in message if word not in stopwords.words('english')]\n",
    "\n",
    "    return \" \".join(message)\n",
    "\n",
    "df['Message'] = df['Message'].apply(rmv_sw)\n",
    "df['Message'].head()"
   ]
  },
  {
   "cell_type": "code",
   "execution_count": 13,
   "id": "66b8e407",
   "metadata": {
    "execution": {
     "iopub.execute_input": "2025-02-21T05:26:30.121817Z",
     "iopub.status.busy": "2025-02-21T05:26:30.121287Z",
     "iopub.status.idle": "2025-02-21T05:26:31.274145Z",
     "shell.execute_reply": "2025-02-21T05:26:31.272965Z"
    },
    "papermill": {
     "duration": 1.165966,
     "end_time": "2025-02-21T05:26:31.276138",
     "exception": false,
     "start_time": "2025-02-21T05:26:30.110172",
     "status": "completed"
    },
    "tags": []
   },
   "outputs": [
    {
     "data": {
      "text/plain": [
       "0    go jurong point crazi avail bugi n great world...\n",
       "1                                ok lar joke wif u oni\n",
       "2    free entri 2 wkli comp win fa cup final tkts 2...\n",
       "3                  u dun say earli hor u c alreadi say\n",
       "4            nah dont think goe usf live around though\n",
       "Name: Message, dtype: object"
      ]
     },
     "execution_count": 13,
     "metadata": {},
     "output_type": "execute_result"
    }
   ],
   "source": [
    "# stemming\n",
    "from nltk.stem import SnowballStemmer\n",
    "\n",
    "ss = SnowballStemmer('english')\n",
    "\n",
    "def stemming(messages):\n",
    "    message = word_tokenize(messages)\n",
    "\n",
    "    message = [ss.stem(word) for word in message]\n",
    "\n",
    "    return \" \".join(message)\n",
    "\n",
    "df['Message'] = df['Message'].apply(stemming)\n",
    "df['Message'].head()"
   ]
  },
  {
   "cell_type": "code",
   "execution_count": 14,
   "id": "37f1824b",
   "metadata": {
    "execution": {
     "iopub.execute_input": "2025-02-21T05:26:31.296681Z",
     "iopub.status.busy": "2025-02-21T05:26:31.296267Z",
     "iopub.status.idle": "2025-02-21T05:26:31.304102Z",
     "shell.execute_reply": "2025-02-21T05:26:31.303135Z"
    },
    "papermill": {
     "duration": 0.020198,
     "end_time": "2025-02-21T05:26:31.305991",
     "exception": false,
     "start_time": "2025-02-21T05:26:31.285793",
     "status": "completed"
    },
    "tags": []
   },
   "outputs": [
    {
     "data": {
      "text/plain": [
       "984                           look fuckin time fuck think\n",
       "3736                                          ‘ £6 get ok\n",
       "919     hey gave photo regist drive ah tmr wan na meet...\n",
       "4944    check maili mail varma kept copi regard member...\n",
       "909                                 white fudg oreo store\n",
       "Name: Message, dtype: object"
      ]
     },
     "execution_count": 14,
     "metadata": {},
     "output_type": "execute_result"
    }
   ],
   "source": [
    "df['Message'].sample(5)"
   ]
  },
  {
   "cell_type": "markdown",
   "id": "3462d7a9",
   "metadata": {
    "papermill": {
     "duration": 0.009133,
     "end_time": "2025-02-21T05:26:31.324679",
     "exception": false,
     "start_time": "2025-02-21T05:26:31.315546",
     "status": "completed"
    },
    "tags": []
   },
   "source": [
    "### Splitting"
   ]
  },
  {
   "cell_type": "code",
   "execution_count": 15,
   "id": "84d6919b",
   "metadata": {
    "execution": {
     "iopub.execute_input": "2025-02-21T05:26:31.345338Z",
     "iopub.status.busy": "2025-02-21T05:26:31.344987Z",
     "iopub.status.idle": "2025-02-21T05:26:31.351797Z",
     "shell.execute_reply": "2025-02-21T05:26:31.350584Z"
    },
    "papermill": {
     "duration": 0.019056,
     "end_time": "2025-02-21T05:26:31.353696",
     "exception": false,
     "start_time": "2025-02-21T05:26:31.334640",
     "status": "completed"
    },
    "tags": []
   },
   "outputs": [],
   "source": [
    "X = df.iloc[:, 1:]\n",
    "y = df['Class']"
   ]
  },
  {
   "cell_type": "code",
   "execution_count": 16,
   "id": "3a9b19df",
   "metadata": {
    "execution": {
     "iopub.execute_input": "2025-02-21T05:26:31.373890Z",
     "iopub.status.busy": "2025-02-21T05:26:31.373549Z",
     "iopub.status.idle": "2025-02-21T05:26:31.383038Z",
     "shell.execute_reply": "2025-02-21T05:26:31.382078Z"
    },
    "papermill": {
     "duration": 0.021424,
     "end_time": "2025-02-21T05:26:31.384688",
     "exception": false,
     "start_time": "2025-02-21T05:26:31.363264",
     "status": "completed"
    },
    "tags": []
   },
   "outputs": [
    {
     "data": {
      "text/html": [
       "<div>\n",
       "<style scoped>\n",
       "    .dataframe tbody tr th:only-of-type {\n",
       "        vertical-align: middle;\n",
       "    }\n",
       "\n",
       "    .dataframe tbody tr th {\n",
       "        vertical-align: top;\n",
       "    }\n",
       "\n",
       "    .dataframe thead th {\n",
       "        text-align: right;\n",
       "    }\n",
       "</style>\n",
       "<table border=\"1\" class=\"dataframe\">\n",
       "  <thead>\n",
       "    <tr style=\"text-align: right;\">\n",
       "      <th></th>\n",
       "      <th>Message</th>\n",
       "    </tr>\n",
       "  </thead>\n",
       "  <tbody>\n",
       "    <tr>\n",
       "      <th>0</th>\n",
       "      <td>go jurong point crazi avail bugi n great world...</td>\n",
       "    </tr>\n",
       "    <tr>\n",
       "      <th>1</th>\n",
       "      <td>ok lar joke wif u oni</td>\n",
       "    </tr>\n",
       "    <tr>\n",
       "      <th>2</th>\n",
       "      <td>free entri 2 wkli comp win fa cup final tkts 2...</td>\n",
       "    </tr>\n",
       "    <tr>\n",
       "      <th>3</th>\n",
       "      <td>u dun say earli hor u c alreadi say</td>\n",
       "    </tr>\n",
       "    <tr>\n",
       "      <th>4</th>\n",
       "      <td>nah dont think goe usf live around though</td>\n",
       "    </tr>\n",
       "    <tr>\n",
       "      <th>...</th>\n",
       "      <td>...</td>\n",
       "    </tr>\n",
       "    <tr>\n",
       "      <th>5569</th>\n",
       "      <td>2nd time tri 2 contact u u £750 pound prize 2 ...</td>\n",
       "    </tr>\n",
       "    <tr>\n",
       "      <th>5570</th>\n",
       "      <td>ü b go esplanad fr home</td>\n",
       "    </tr>\n",
       "    <tr>\n",
       "      <th>5571</th>\n",
       "      <td>piti mood soani suggest</td>\n",
       "    </tr>\n",
       "    <tr>\n",
       "      <th>5572</th>\n",
       "      <td>guy bitch act like id interest buy someth els ...</td>\n",
       "    </tr>\n",
       "    <tr>\n",
       "      <th>5573</th>\n",
       "      <td>rofl true name</td>\n",
       "    </tr>\n",
       "  </tbody>\n",
       "</table>\n",
       "<p>5159 rows × 1 columns</p>\n",
       "</div>"
      ],
      "text/plain": [
       "                                                Message\n",
       "0     go jurong point crazi avail bugi n great world...\n",
       "1                                 ok lar joke wif u oni\n",
       "2     free entri 2 wkli comp win fa cup final tkts 2...\n",
       "3                   u dun say earli hor u c alreadi say\n",
       "4             nah dont think goe usf live around though\n",
       "...                                                 ...\n",
       "5569  2nd time tri 2 contact u u £750 pound prize 2 ...\n",
       "5570                            ü b go esplanad fr home\n",
       "5571                            piti mood soani suggest\n",
       "5572  guy bitch act like id interest buy someth els ...\n",
       "5573                                     rofl true name\n",
       "\n",
       "[5159 rows x 1 columns]"
      ]
     },
     "execution_count": 16,
     "metadata": {},
     "output_type": "execute_result"
    }
   ],
   "source": [
    "X"
   ]
  },
  {
   "cell_type": "code",
   "execution_count": 17,
   "id": "8556507d",
   "metadata": {
    "execution": {
     "iopub.execute_input": "2025-02-21T05:26:31.405914Z",
     "iopub.status.busy": "2025-02-21T05:26:31.405532Z",
     "iopub.status.idle": "2025-02-21T05:26:31.413822Z",
     "shell.execute_reply": "2025-02-21T05:26:31.412721Z"
    },
    "papermill": {
     "duration": 0.021234,
     "end_time": "2025-02-21T05:26:31.415726",
     "exception": false,
     "start_time": "2025-02-21T05:26:31.394492",
     "status": "completed"
    },
    "tags": []
   },
   "outputs": [
    {
     "data": {
      "text/plain": [
       "0        ham\n",
       "1        ham\n",
       "2       spam\n",
       "3        ham\n",
       "4        ham\n",
       "        ... \n",
       "5569    spam\n",
       "5570     ham\n",
       "5571     ham\n",
       "5572     ham\n",
       "5573     ham\n",
       "Name: Class, Length: 5159, dtype: category\n",
       "Categories (2, object): ['ham', 'spam']"
      ]
     },
     "execution_count": 17,
     "metadata": {},
     "output_type": "execute_result"
    }
   ],
   "source": [
    "y"
   ]
  },
  {
   "cell_type": "code",
   "execution_count": 18,
   "id": "52ad9a81",
   "metadata": {
    "execution": {
     "iopub.execute_input": "2025-02-21T05:26:31.436617Z",
     "iopub.status.busy": "2025-02-21T05:26:31.436168Z",
     "iopub.status.idle": "2025-02-21T05:26:31.445131Z",
     "shell.execute_reply": "2025-02-21T05:26:31.443986Z"
    },
    "papermill": {
     "duration": 0.021173,
     "end_time": "2025-02-21T05:26:31.446852",
     "exception": false,
     "start_time": "2025-02-21T05:26:31.425679",
     "status": "completed"
    },
    "tags": []
   },
   "outputs": [
    {
     "data": {
      "text/plain": [
       "array([0, 0, 1, ..., 0, 0, 0])"
      ]
     },
     "execution_count": 18,
     "metadata": {},
     "output_type": "execute_result"
    }
   ],
   "source": [
    "from sklearn.preprocessing import LabelEncoder\n",
    "\n",
    "le = LabelEncoder()\n",
    "y = le.fit_transform(y)\n",
    "y"
   ]
  },
  {
   "cell_type": "code",
   "execution_count": 19,
   "id": "3cfa6e91",
   "metadata": {
    "execution": {
     "iopub.execute_input": "2025-02-21T05:26:31.467912Z",
     "iopub.status.busy": "2025-02-21T05:26:31.467512Z",
     "iopub.status.idle": "2025-02-21T05:26:31.474928Z",
     "shell.execute_reply": "2025-02-21T05:26:31.473897Z"
    },
    "papermill": {
     "duration": 0.020044,
     "end_time": "2025-02-21T05:26:31.476802",
     "exception": false,
     "start_time": "2025-02-21T05:26:31.456758",
     "status": "completed"
    },
    "tags": []
   },
   "outputs": [],
   "source": [
    "from sklearn.model_selection import train_test_split\n",
    "\n",
    "X_train, X_test, y_train, y_test = train_test_split(X,y, test_size=0.3, random_state=42)"
   ]
  },
  {
   "cell_type": "code",
   "execution_count": 20,
   "id": "54288380",
   "metadata": {
    "execution": {
     "iopub.execute_input": "2025-02-21T05:26:31.497917Z",
     "iopub.status.busy": "2025-02-21T05:26:31.497532Z",
     "iopub.status.idle": "2025-02-21T05:26:31.503242Z",
     "shell.execute_reply": "2025-02-21T05:26:31.502127Z"
    },
    "papermill": {
     "duration": 0.018057,
     "end_time": "2025-02-21T05:26:31.505033",
     "exception": false,
     "start_time": "2025-02-21T05:26:31.486976",
     "status": "completed"
    },
    "tags": []
   },
   "outputs": [
    {
     "data": {
      "text/plain": [
       "(3611, 1)"
      ]
     },
     "execution_count": 20,
     "metadata": {},
     "output_type": "execute_result"
    }
   ],
   "source": [
    "X_train.shape"
   ]
  },
  {
   "cell_type": "code",
   "execution_count": 21,
   "id": "1d083594",
   "metadata": {
    "execution": {
     "iopub.execute_input": "2025-02-21T05:26:31.526065Z",
     "iopub.status.busy": "2025-02-21T05:26:31.525680Z",
     "iopub.status.idle": "2025-02-21T05:26:31.531533Z",
     "shell.execute_reply": "2025-02-21T05:26:31.530528Z"
    },
    "papermill": {
     "duration": 0.018157,
     "end_time": "2025-02-21T05:26:31.533139",
     "exception": false,
     "start_time": "2025-02-21T05:26:31.514982",
     "status": "completed"
    },
    "tags": []
   },
   "outputs": [
    {
     "data": {
      "text/plain": [
       "(1548, 1)"
      ]
     },
     "execution_count": 21,
     "metadata": {},
     "output_type": "execute_result"
    }
   ],
   "source": [
    "X_test.shape"
   ]
  },
  {
   "cell_type": "code",
   "execution_count": 22,
   "id": "c38239fd",
   "metadata": {
    "execution": {
     "iopub.execute_input": "2025-02-21T05:26:31.554524Z",
     "iopub.status.busy": "2025-02-21T05:26:31.554025Z",
     "iopub.status.idle": "2025-02-21T05:26:31.563385Z",
     "shell.execute_reply": "2025-02-21T05:26:31.562374Z"
    },
    "papermill": {
     "duration": 0.021735,
     "end_time": "2025-02-21T05:26:31.565027",
     "exception": false,
     "start_time": "2025-02-21T05:26:31.543292",
     "status": "completed"
    },
    "tags": []
   },
   "outputs": [
    {
     "data": {
      "text/plain": [
       "0    3164\n",
       "1     447\n",
       "Name: count, dtype: int64"
      ]
     },
     "execution_count": 22,
     "metadata": {},
     "output_type": "execute_result"
    }
   ],
   "source": [
    "pd.Series(y_train).value_counts()"
   ]
  },
  {
   "cell_type": "markdown",
   "id": "64cb60ba",
   "metadata": {
    "papermill": {
     "duration": 0.009696,
     "end_time": "2025-02-21T05:26:31.585399",
     "exception": false,
     "start_time": "2025-02-21T05:26:31.575703",
     "status": "completed"
    },
    "tags": []
   },
   "source": [
    "### Feature Extraction"
   ]
  },
  {
   "cell_type": "code",
   "execution_count": 23,
   "id": "8d66f342",
   "metadata": {
    "execution": {
     "iopub.execute_input": "2025-02-21T05:26:31.606686Z",
     "iopub.status.busy": "2025-02-21T05:26:31.606254Z",
     "iopub.status.idle": "2025-02-21T05:26:31.610378Z",
     "shell.execute_reply": "2025-02-21T05:26:31.609513Z"
    },
    "papermill": {
     "duration": 0.016762,
     "end_time": "2025-02-21T05:26:31.612069",
     "exception": false,
     "start_time": "2025-02-21T05:26:31.595307",
     "status": "completed"
    },
    "tags": []
   },
   "outputs": [],
   "source": [
    "from sklearn.feature_extraction.text import CountVectorizer\n",
    "from sklearn.feature_extraction.text import TfidfVectorizer"
   ]
  },
  {
   "cell_type": "code",
   "execution_count": 24,
   "id": "d5f09a79",
   "metadata": {
    "execution": {
     "iopub.execute_input": "2025-02-21T05:26:31.633842Z",
     "iopub.status.busy": "2025-02-21T05:26:31.633494Z",
     "iopub.status.idle": "2025-02-21T05:26:31.638069Z",
     "shell.execute_reply": "2025-02-21T05:26:31.637131Z"
    },
    "papermill": {
     "duration": 0.017232,
     "end_time": "2025-02-21T05:26:31.639741",
     "exception": false,
     "start_time": "2025-02-21T05:26:31.622509",
     "status": "completed"
    },
    "tags": []
   },
   "outputs": [],
   "source": [
    "cv1 = CountVectorizer(max_features=5000)\n",
    "cv2 = CountVectorizer(ngram_range=(1,2), max_features=5000)\n",
    "tfidf = TfidfVectorizer(max_features=5000)"
   ]
  },
  {
   "cell_type": "code",
   "execution_count": 25,
   "id": "f832275c",
   "metadata": {
    "execution": {
     "iopub.execute_input": "2025-02-21T05:26:31.661073Z",
     "iopub.status.busy": "2025-02-21T05:26:31.660728Z",
     "iopub.status.idle": "2025-02-21T05:26:32.346633Z",
     "shell.execute_reply": "2025-02-21T05:26:32.345538Z"
    },
    "papermill": {
     "duration": 0.698604,
     "end_time": "2025-02-21T05:26:32.348542",
     "exception": false,
     "start_time": "2025-02-21T05:26:31.649938",
     "status": "completed"
    },
    "tags": []
   },
   "outputs": [],
   "source": [
    "X_train_bow = cv1.fit_transform(X_train['Message']).toarray()\n",
    "X_test_bow = cv1.transform(X_test['Message']).toarray()\n",
    "\n",
    "X_train_bigrams = cv2.fit_transform(X_train['Message']).toarray()\n",
    "X_test_bigrams = cv2.transform(X_test['Message']).toarray()\n",
    "\n",
    "X_train_tfidf = tfidf.fit_transform(X_train['Message']).toarray()\n",
    "X_test_tfidf = tfidf.transform(X_test['Message']).toarray()"
   ]
  },
  {
   "cell_type": "code",
   "execution_count": 26,
   "id": "31c66e09",
   "metadata": {
    "execution": {
     "iopub.execute_input": "2025-02-21T05:26:32.371085Z",
     "iopub.status.busy": "2025-02-21T05:26:32.370744Z",
     "iopub.status.idle": "2025-02-21T05:26:32.376478Z",
     "shell.execute_reply": "2025-02-21T05:26:32.375523Z"
    },
    "papermill": {
     "duration": 0.018616,
     "end_time": "2025-02-21T05:26:32.378089",
     "exception": false,
     "start_time": "2025-02-21T05:26:32.359473",
     "status": "completed"
    },
    "tags": []
   },
   "outputs": [
    {
     "data": {
      "text/plain": [
       "(3611, 5000)"
      ]
     },
     "execution_count": 26,
     "metadata": {},
     "output_type": "execute_result"
    }
   ],
   "source": [
    "X_train_bow.shape"
   ]
  },
  {
   "cell_type": "code",
   "execution_count": 27,
   "id": "b5075896",
   "metadata": {
    "execution": {
     "iopub.execute_input": "2025-02-21T05:26:32.399773Z",
     "iopub.status.busy": "2025-02-21T05:26:32.399362Z",
     "iopub.status.idle": "2025-02-21T05:26:32.404992Z",
     "shell.execute_reply": "2025-02-21T05:26:32.403835Z"
    },
    "papermill": {
     "duration": 0.018394,
     "end_time": "2025-02-21T05:26:32.406754",
     "exception": false,
     "start_time": "2025-02-21T05:26:32.388360",
     "status": "completed"
    },
    "tags": []
   },
   "outputs": [
    {
     "data": {
      "text/plain": [
       "(3611, 5000)"
      ]
     },
     "execution_count": 27,
     "metadata": {},
     "output_type": "execute_result"
    }
   ],
   "source": [
    "X_train_bigrams.shape"
   ]
  },
  {
   "cell_type": "code",
   "execution_count": 28,
   "id": "8e4b2b4d",
   "metadata": {
    "execution": {
     "iopub.execute_input": "2025-02-21T05:26:32.429496Z",
     "iopub.status.busy": "2025-02-21T05:26:32.429118Z",
     "iopub.status.idle": "2025-02-21T05:26:32.435019Z",
     "shell.execute_reply": "2025-02-21T05:26:32.433860Z"
    },
    "papermill": {
     "duration": 0.019484,
     "end_time": "2025-02-21T05:26:32.437129",
     "exception": false,
     "start_time": "2025-02-21T05:26:32.417645",
     "status": "completed"
    },
    "tags": []
   },
   "outputs": [
    {
     "data": {
      "text/plain": [
       "(3611, 5000)"
      ]
     },
     "execution_count": 28,
     "metadata": {},
     "output_type": "execute_result"
    }
   ],
   "source": [
    "X_train_tfidf.shape"
   ]
  },
  {
   "cell_type": "markdown",
   "id": "564be6b6",
   "metadata": {
    "papermill": {
     "duration": 0.010298,
     "end_time": "2025-02-21T05:26:32.458541",
     "exception": false,
     "start_time": "2025-02-21T05:26:32.448243",
     "status": "completed"
    },
    "tags": []
   },
   "source": [
    "### Using SMOTE"
   ]
  },
  {
   "cell_type": "code",
   "execution_count": 29,
   "id": "ea0d748d",
   "metadata": {
    "execution": {
     "iopub.execute_input": "2025-02-21T05:26:32.481370Z",
     "iopub.status.busy": "2025-02-21T05:26:32.480979Z",
     "iopub.status.idle": "2025-02-21T05:26:33.155280Z",
     "shell.execute_reply": "2025-02-21T05:26:33.154149Z"
    },
    "papermill": {
     "duration": 0.687676,
     "end_time": "2025-02-21T05:26:33.157216",
     "exception": false,
     "start_time": "2025-02-21T05:26:32.469540",
     "status": "completed"
    },
    "tags": []
   },
   "outputs": [
    {
     "ename": "ModuleNotFoundError",
     "evalue": "No module named 'imblearn'",
     "output_type": "error",
     "traceback": [
      "\u001b[1;31m---------------------------------------------------------------------------\u001b[0m",
      "\u001b[1;31mModuleNotFoundError\u001b[0m                       Traceback (most recent call last)",
      "Cell \u001b[1;32mIn[29], line 1\u001b[0m\n\u001b[1;32m----> 1\u001b[0m \u001b[38;5;28;01mfrom\u001b[39;00m\u001b[38;5;250m \u001b[39m\u001b[38;5;21;01mimblearn\u001b[39;00m\u001b[38;5;21;01m.\u001b[39;00m\u001b[38;5;21;01mover_sampling\u001b[39;00m\u001b[38;5;250m \u001b[39m\u001b[38;5;28;01mimport\u001b[39;00m SMOTE\n",
      "\u001b[1;31mModuleNotFoundError\u001b[0m: No module named 'imblearn'"
     ]
    }
   ],
   "source": [
    "from imblearn.over_sampling import SMOTE"
   ]
  },
  {
   "cell_type": "code",
   "execution_count": null,
   "id": "efd2b547",
   "metadata": {
    "execution": {
     "iopub.execute_input": "2025-02-21T05:26:33.179387Z",
     "iopub.status.busy": "2025-02-21T05:26:33.178885Z",
     "iopub.status.idle": "2025-02-21T05:26:34.744766Z",
     "shell.execute_reply": "2025-02-21T05:26:34.743760Z"
    },
    "papermill": {
     "duration": 1.578929,
     "end_time": "2025-02-21T05:26:34.746614",
     "exception": false,
     "start_time": "2025-02-21T05:26:33.167685",
     "status": "completed"
    },
    "tags": []
   },
   "outputs": [],
   "source": [
    "smote = SMOTE(random_state=42)\n",
    "\n",
    "X_train_bow_resampled, y_train_bow_resampled = smote.fit_resample(X_train_bow, y_train)\n",
    "X_train_bigrams_resampled, y_train_bigrams_resampled = smote.fit_resample(X_train_bigrams, y_train)\n",
    "X_train_tfidf_resampled, y_train_tfidf_resampled = smote.fit_resample(X_train_tfidf, y_train)"
   ]
  },
  {
   "cell_type": "code",
   "execution_count": null,
   "id": "98c84241",
   "metadata": {
    "execution": {
     "iopub.execute_input": "2025-02-21T05:26:34.768686Z",
     "iopub.status.busy": "2025-02-21T05:26:34.768281Z",
     "iopub.status.idle": "2025-02-21T05:26:34.775469Z",
     "shell.execute_reply": "2025-02-21T05:26:34.774548Z"
    },
    "papermill": {
     "duration": 0.020345,
     "end_time": "2025-02-21T05:26:34.777414",
     "exception": false,
     "start_time": "2025-02-21T05:26:34.757069",
     "status": "completed"
    },
    "tags": []
   },
   "outputs": [
    {
     "data": {
      "text/plain": [
       "0    3164\n",
       "1    3164\n",
       "Name: count, dtype: int64"
      ]
     },
     "execution_count": 31,
     "metadata": {},
     "output_type": "execute_result"
    }
   ],
   "source": [
    "pd.Series(y_train_bow_resampled).value_counts()"
   ]
  },
  {
   "cell_type": "markdown",
   "id": "2f8a2492",
   "metadata": {
    "papermill": {
     "duration": 0.010146,
     "end_time": "2025-02-21T05:26:34.858175",
     "exception": false,
     "start_time": "2025-02-21T05:26:34.848029",
     "status": "completed"
    },
    "tags": []
   },
   "source": [
    "### Model training and Evaluation"
   ]
  },
  {
   "cell_type": "code",
   "execution_count": null,
   "id": "5bbebfdf",
   "metadata": {
    "execution": {
     "iopub.execute_input": "2025-02-21T05:26:34.880185Z",
     "iopub.status.busy": "2025-02-21T05:26:34.879862Z",
     "iopub.status.idle": "2025-02-21T05:26:37.347797Z",
     "shell.execute_reply": "2025-02-21T05:26:37.346587Z"
    },
    "papermill": {
     "duration": 2.481581,
     "end_time": "2025-02-21T05:26:37.349962",
     "exception": false,
     "start_time": "2025-02-21T05:26:34.868381",
     "status": "completed"
    },
    "tags": []
   },
   "outputs": [],
   "source": [
    "from sklearn.naive_bayes import GaussianNB\n",
    "from sklearn.metrics import classification_report, accuracy_score, confusion_matrix\n",
    "\n",
    "gnb_bow = GaussianNB()\n",
    "gnb_bigrams = GaussianNB()\n",
    "gnb_tfidf = GaussianNB()\n",
    "\n",
    "gnb_bow.fit(X_train_bow_resampled, y_train_bow_resampled)\n",
    "gnb_bigrams.fit(X_train_bigrams_resampled, y_train_bigrams_resampled)\n",
    "gnb_tfidf.fit(X_train_tfidf_resampled, y_train_tfidf_resampled)\n",
    "\n",
    "y_pred_bow = gnb_bow.predict(X_test_bow)\n",
    "y_pred_bigrams = gnb_bigrams.predict(X_test_bigrams)\n",
    "y_pred_tfidf = gnb_tfidf.predict(X_test_tfidf)"
   ]
  },
  {
   "cell_type": "code",
   "execution_count": null,
   "id": "8eeb8dfe",
   "metadata": {
    "execution": {
     "iopub.execute_input": "2025-02-21T05:26:37.372566Z",
     "iopub.status.busy": "2025-02-21T05:26:37.372048Z",
     "iopub.status.idle": "2025-02-21T05:26:37.378480Z",
     "shell.execute_reply": "2025-02-21T05:26:37.377373Z"
    },
    "papermill": {
     "duration": 0.019956,
     "end_time": "2025-02-21T05:26:37.380449",
     "exception": false,
     "start_time": "2025-02-21T05:26:37.360493",
     "status": "completed"
    },
    "tags": []
   },
   "outputs": [],
   "source": [
    "def print_metrics(y_test, y_pred, model_name, vectorizer_name):\n",
    "    print(f\"\\nModel: {model_name} | Vectorizer: {vectorizer_name}\")\n",
    "    print(\"Accuracy:\", accuracy_score(y_test, y_pred))\n",
    "    print(\"Confusion Matrix:\")\n",
    "    print(confusion_matrix(y_test, y_pred))\n",
    "    print(\"Classification Report:\")\n",
    "    print(classification_report(y_test, y_pred))"
   ]
  },
  {
   "cell_type": "code",
   "execution_count": null,
   "id": "0869981c",
   "metadata": {
    "execution": {
     "iopub.execute_input": "2025-02-21T05:26:37.404044Z",
     "iopub.status.busy": "2025-02-21T05:26:37.403664Z",
     "iopub.status.idle": "2025-02-21T05:26:37.454959Z",
     "shell.execute_reply": "2025-02-21T05:26:37.453216Z"
    },
    "papermill": {
     "duration": 0.065717,
     "end_time": "2025-02-21T05:26:37.457446",
     "exception": false,
     "start_time": "2025-02-21T05:26:37.391729",
     "status": "completed"
    },
    "tags": []
   },
   "outputs": [
    {
     "name": "stdout",
     "output_type": "stream",
     "text": [
      "\n",
      "Model: GaussianNB | Vectorizer: BoW\n",
      "Accuracy: 0.8669250645994832\n",
      "Confusion Matrix:\n",
      "[[1163  191]\n",
      " [  15  179]]\n",
      "Classification Report:\n",
      "              precision    recall  f1-score   support\n",
      "\n",
      "           0       0.99      0.86      0.92      1354\n",
      "           1       0.48      0.92      0.63       194\n",
      "\n",
      "    accuracy                           0.87      1548\n",
      "   macro avg       0.74      0.89      0.78      1548\n",
      "weighted avg       0.92      0.87      0.88      1548\n",
      "\n",
      "\n",
      "Model: GaussianNB | Vectorizer: Bigrams\n",
      "Accuracy: 0.8682170542635659\n",
      "Confusion Matrix:\n",
      "[[1166  188]\n",
      " [  16  178]]\n",
      "Classification Report:\n",
      "              precision    recall  f1-score   support\n",
      "\n",
      "           0       0.99      0.86      0.92      1354\n",
      "           1       0.49      0.92      0.64       194\n",
      "\n",
      "    accuracy                           0.87      1548\n",
      "   macro avg       0.74      0.89      0.78      1548\n",
      "weighted avg       0.92      0.87      0.88      1548\n",
      "\n",
      "\n",
      "Model: GaussianNB | Vectorizer: TF-IDF\n",
      "Accuracy: 0.8649870801033591\n",
      "Confusion Matrix:\n",
      "[[1165  189]\n",
      " [  20  174]]\n",
      "Classification Report:\n",
      "              precision    recall  f1-score   support\n",
      "\n",
      "           0       0.98      0.86      0.92      1354\n",
      "           1       0.48      0.90      0.62       194\n",
      "\n",
      "    accuracy                           0.86      1548\n",
      "   macro avg       0.73      0.88      0.77      1548\n",
      "weighted avg       0.92      0.86      0.88      1548\n",
      "\n"
     ]
    }
   ],
   "source": [
    "print_metrics(y_test, y_pred_bow, \"GaussianNB\", \"BoW\")\n",
    "print_metrics(y_test, y_pred_bigrams, \"GaussianNB\", \"Bigrams\")\n",
    "print_metrics(y_test, y_pred_tfidf, \"GaussianNB\", \"TF-IDF\")"
   ]
  },
  {
   "cell_type": "code",
   "execution_count": null,
   "id": "620422a8",
   "metadata": {
    "execution": {
     "iopub.execute_input": "2025-02-21T05:26:37.489365Z",
     "iopub.status.busy": "2025-02-21T05:26:37.488990Z",
     "iopub.status.idle": "2025-02-21T05:26:38.055181Z",
     "shell.execute_reply": "2025-02-21T05:26:38.053976Z"
    },
    "papermill": {
     "duration": 0.579857,
     "end_time": "2025-02-21T05:26:38.057157",
     "exception": false,
     "start_time": "2025-02-21T05:26:37.477300",
     "status": "completed"
    },
    "tags": []
   },
   "outputs": [],
   "source": [
    "from sklearn.naive_bayes import MultinomialNB\n",
    "\n",
    "mnb_bow = MultinomialNB()\n",
    "mnb_bigrams = MultinomialNB()\n",
    "mnb_tfidf = MultinomialNB()\n",
    "\n",
    "mnb_bow.fit(X_train_bow_resampled, y_train_bow_resampled)\n",
    "mnb_bigrams.fit(X_train_bigrams_resampled, y_train_bigrams_resampled)\n",
    "mnb_tfidf.fit(X_train_tfidf_resampled, y_train_tfidf_resampled)\n",
    "\n",
    "y_pred_bow = mnb_bow.predict(X_test_bow)\n",
    "y_pred_bigrams = mnb_bigrams.predict(X_test_bigrams)\n",
    "y_pred_tfidf = mnb_tfidf.predict(X_test_tfidf)"
   ]
  },
  {
   "cell_type": "code",
   "execution_count": null,
   "id": "37186175",
   "metadata": {
    "execution": {
     "iopub.execute_input": "2025-02-21T05:26:38.082896Z",
     "iopub.status.busy": "2025-02-21T05:26:38.082475Z",
     "iopub.status.idle": "2025-02-21T05:26:38.124603Z",
     "shell.execute_reply": "2025-02-21T05:26:38.123056Z"
    },
    "papermill": {
     "duration": 0.055801,
     "end_time": "2025-02-21T05:26:38.126533",
     "exception": false,
     "start_time": "2025-02-21T05:26:38.070732",
     "status": "completed"
    },
    "tags": []
   },
   "outputs": [
    {
     "name": "stdout",
     "output_type": "stream",
     "text": [
      "\n",
      "Model: MultinomialNB | Vectorizer: BoW\n",
      "Accuracy: 0.9612403100775194\n",
      "Confusion Matrix:\n",
      "[[1311   43]\n",
      " [  17  177]]\n",
      "Classification Report:\n",
      "              precision    recall  f1-score   support\n",
      "\n",
      "           0       0.99      0.97      0.98      1354\n",
      "           1       0.80      0.91      0.86       194\n",
      "\n",
      "    accuracy                           0.96      1548\n",
      "   macro avg       0.90      0.94      0.92      1548\n",
      "weighted avg       0.96      0.96      0.96      1548\n",
      "\n",
      "\n",
      "Model: MultinomialNB | Vectorizer: Bigrams\n",
      "Accuracy: 0.9664082687338501\n",
      "Confusion Matrix:\n",
      "[[1325   29]\n",
      " [  23  171]]\n",
      "Classification Report:\n",
      "              precision    recall  f1-score   support\n",
      "\n",
      "           0       0.98      0.98      0.98      1354\n",
      "           1       0.85      0.88      0.87       194\n",
      "\n",
      "    accuracy                           0.97      1548\n",
      "   macro avg       0.92      0.93      0.92      1548\n",
      "weighted avg       0.97      0.97      0.97      1548\n",
      "\n",
      "\n",
      "Model: MultinomialNB | Vectorizer: TF-IDF\n",
      "Accuracy: 0.960594315245478\n",
      "Confusion Matrix:\n",
      "[[1307   47]\n",
      " [  14  180]]\n",
      "Classification Report:\n",
      "              precision    recall  f1-score   support\n",
      "\n",
      "           0       0.99      0.97      0.98      1354\n",
      "           1       0.79      0.93      0.86       194\n",
      "\n",
      "    accuracy                           0.96      1548\n",
      "   macro avg       0.89      0.95      0.92      1548\n",
      "weighted avg       0.96      0.96      0.96      1548\n",
      "\n"
     ]
    }
   ],
   "source": [
    "print_metrics(y_test, y_pred_bow, \"MultinomialNB\", \"BoW\")\n",
    "print_metrics(y_test, y_pred_bigrams, \"MultinomialNB\", \"Bigrams\")\n",
    "print_metrics(y_test, y_pred_tfidf, \"MultinomialNB\", \"TF-IDF\")"
   ]
  },
  {
   "cell_type": "code",
   "execution_count": null,
   "id": "891273bc",
   "metadata": {
    "execution": {
     "iopub.execute_input": "2025-02-21T05:26:38.149159Z",
     "iopub.status.busy": "2025-02-21T05:26:38.148822Z",
     "iopub.status.idle": "2025-02-21T05:27:35.675237Z",
     "shell.execute_reply": "2025-02-21T05:27:35.673779Z"
    },
    "papermill": {
     "duration": 57.540087,
     "end_time": "2025-02-21T05:27:35.677313",
     "exception": false,
     "start_time": "2025-02-21T05:26:38.137226",
     "status": "completed"
    },
    "tags": []
   },
   "outputs": [],
   "source": [
    "from sklearn.ensemble import RandomForestClassifier\n",
    "\n",
    "rf_bow = RandomForestClassifier(n_estimators=100, random_state=42)\n",
    "rf_bigrams = RandomForestClassifier(n_estimators=100, random_state=42)\n",
    "rf_tfidf = RandomForestClassifier(n_estimators=100, random_state=42)\n",
    "\n",
    "rf_bow.fit(X_train_bow_resampled, y_train_bow_resampled)\n",
    "rf_bigrams.fit(X_train_bigrams_resampled, y_train_bigrams_resampled)\n",
    "rf_tfidf.fit(X_train_tfidf_resampled, y_train_tfidf_resampled)\n",
    "\n",
    "y_pred_bow = rf_bow.predict(X_test_bow)\n",
    "y_pred_bigrams = rf_bigrams.predict(X_test_bigrams)\n",
    "y_pred_tfidf = rf_tfidf.predict(X_test_tfidf)"
   ]
  },
  {
   "cell_type": "code",
   "execution_count": null,
   "id": "917ef551",
   "metadata": {
    "execution": {
     "iopub.execute_input": "2025-02-21T05:27:35.701397Z",
     "iopub.status.busy": "2025-02-21T05:27:35.700991Z",
     "iopub.status.idle": "2025-02-21T05:27:35.743533Z",
     "shell.execute_reply": "2025-02-21T05:27:35.742033Z"
    },
    "papermill": {
     "duration": 0.056587,
     "end_time": "2025-02-21T05:27:35.745533",
     "exception": false,
     "start_time": "2025-02-21T05:27:35.688946",
     "status": "completed"
    },
    "tags": []
   },
   "outputs": [
    {
     "name": "stdout",
     "output_type": "stream",
     "text": [
      "\n",
      "Model: RandomForest | Vectorizer: BoW\n",
      "Accuracy: 0.8662790697674418\n",
      "Confusion Matrix:\n",
      "[[1171  183]\n",
      " [  24  170]]\n",
      "Classification Report:\n",
      "              precision    recall  f1-score   support\n",
      "\n",
      "           0       0.98      0.86      0.92      1354\n",
      "           1       0.48      0.88      0.62       194\n",
      "\n",
      "    accuracy                           0.87      1548\n",
      "   macro avg       0.73      0.87      0.77      1548\n",
      "weighted avg       0.92      0.87      0.88      1548\n",
      "\n",
      "\n",
      "Model: RandomForest | Vectorizer: Bigrams\n",
      "Accuracy: 0.8682170542635659\n",
      "Confusion Matrix:\n",
      "[[1176  178]\n",
      " [  26  168]]\n",
      "Classification Report:\n",
      "              precision    recall  f1-score   support\n",
      "\n",
      "           0       0.98      0.87      0.92      1354\n",
      "           1       0.49      0.87      0.62       194\n",
      "\n",
      "    accuracy                           0.87      1548\n",
      "   macro avg       0.73      0.87      0.77      1548\n",
      "weighted avg       0.92      0.87      0.88      1548\n",
      "\n",
      "\n",
      "Model: RandomForest | Vectorizer: TF-IDF\n",
      "Accuracy: 0.979328165374677\n",
      "Confusion Matrix:\n",
      "[[1353    1]\n",
      " [  31  163]]\n",
      "Classification Report:\n",
      "              precision    recall  f1-score   support\n",
      "\n",
      "           0       0.98      1.00      0.99      1354\n",
      "           1       0.99      0.84      0.91       194\n",
      "\n",
      "    accuracy                           0.98      1548\n",
      "   macro avg       0.99      0.92      0.95      1548\n",
      "weighted avg       0.98      0.98      0.98      1548\n",
      "\n"
     ]
    }
   ],
   "source": [
    "print_metrics(y_test, y_pred_bow, \"RandomForest\", \"BoW\")\n",
    "print_metrics(y_test, y_pred_bigrams, \"RandomForest\", \"Bigrams\")\n",
    "print_metrics(y_test, y_pred_tfidf, \"RandomForest\", \"TF-IDF\")"
   ]
  },
  {
   "cell_type": "markdown",
   "id": "96e61824",
   "metadata": {
    "papermill": {
     "duration": 0.010454,
     "end_time": "2025-02-21T05:27:35.767796",
     "exception": false,
     "start_time": "2025-02-21T05:27:35.757342",
     "status": "completed"
    },
    "tags": []
   },
   "source": [
    "We can see that Random Forest with TFIDF produced highest metrics(accuracy, precision, recall and f1 score)."
   ]
  }
 ],
 "metadata": {
  "kaggle": {
   "accelerator": "none",
   "dataSources": [
    {
     "datasetId": 5736412,
     "sourceId": 9440000,
     "sourceType": "datasetVersion"
    }
   ],
   "dockerImageVersionId": 30886,
   "isGpuEnabled": false,
   "isInternetEnabled": true,
   "language": "python",
   "sourceType": "notebook"
  },
  "kernelspec": {
   "display_name": "Python 3",
   "language": "python",
   "name": "python3"
  },
  "language_info": {
   "codemirror_mode": {
    "name": "ipython",
    "version": 3
   },
   "file_extension": ".py",
   "mimetype": "text/x-python",
   "name": "python",
   "nbconvert_exporter": "python",
   "pygments_lexer": "ipython3",
   "version": "3.11.2"
  },
  "papermill": {
   "default_parameters": {},
   "duration": 83.390321,
   "end_time": "2025-02-21T05:27:36.700879",
   "environment_variables": {},
   "exception": null,
   "input_path": "__notebook__.ipynb",
   "output_path": "__notebook__.ipynb",
   "parameters": {},
   "start_time": "2025-02-21T05:26:13.310558",
   "version": "2.6.0"
  }
 },
 "nbformat": 4,
 "nbformat_minor": 5
}
